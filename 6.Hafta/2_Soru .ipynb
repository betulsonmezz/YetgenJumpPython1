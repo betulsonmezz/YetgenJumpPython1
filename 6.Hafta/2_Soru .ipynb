{
  "cells": [
    {
      "cell_type": "markdown",
      "metadata": {
        "id": "xdJPVw8Qym8-"
      },
      "source": [
        " # Problem 2\n",
        " \n",
        "```test.txt``` dosyasını satır satır okuyun ve bir listede saklayınız. Daha sonra listeyi ekrana bastırınız."
      ]
    },
    {
      "cell_type": "code",
      "execution_count": 1,
      "metadata": {
        "id": "ERxLPkA1yqM9"
      },
      "outputs": [
        {
          "name": "stdout",
          "output_type": "stream",
          "text": [
            "<built-in method readline of _io.TextIOWrapper object at 0x00000298393F5970>\n"
          ]
        }
      ],
      "source": [
        "with open(\"test.txt\" , \"a\" , encoding=\"utf-8\") as file:\n",
        "    betül= file.readline\n",
        "    print(betül)\n",
        "    \n"
      ]
    }
  ],
  "metadata": {
    "colab": {
      "provenance": []
    },
    "kernelspec": {
      "display_name": "Python 3",
      "name": "python3"
    },
    "language_info": {
      "codemirror_mode": {
        "name": "ipython",
        "version": 3
      },
      "file_extension": ".py",
      "mimetype": "text/x-python",
      "name": "python",
      "nbconvert_exporter": "python",
      "pygments_lexer": "ipython3",
      "version": "3.11.1"
    }
  },
  "nbformat": 4,
  "nbformat_minor": 0
}
