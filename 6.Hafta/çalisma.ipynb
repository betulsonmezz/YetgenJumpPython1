{
 "cells": [
  {
   "cell_type": "code",
   "execution_count": 8,
   "metadata": {},
   "outputs": [],
   "source": [
    "try:\n",
    "\n",
    "    f = open(\"deneme.ipynb\" , \"r\" , encoding=\"utf=8\")\n",
    "except:\n",
    "    print(\"Ben bu dosyayi bulamadim.\")"
   ]
  },
  {
   "cell_type": "code",
   "execution_count": 7,
   "metadata": {},
   "outputs": [
    {
     "name": "stdout",
     "output_type": "stream",
     "text": [
      "{\n",
      "\n",
      " \"cells\": [\n",
      "\n",
      "  {\n",
      "\n",
      "   \"cell_type\": \"code\",\n",
      "\n",
      "   \"execution_count\": null,\n",
      "\n",
      "   \"metadata\": {},\n",
      "\n",
      "   \"outputs\": [],\n",
      "\n",
      "   \"source\": []\n",
      "\n",
      "  },\n",
      "\n",
      "  {\n",
      "\n",
      "   \"attachments\": {},\n",
      "\n",
      "   \"cell_type\": \"markdown\",\n",
      "\n",
      "   \"metadata\": {},\n",
      "\n",
      "   \"source\": [\n",
      "\n",
      "    \"yetgen\\n\",\n",
      "\n",
      "    \"jump python\"\n",
      "\n",
      "   ]\n",
      "\n",
      "  }\n",
      "\n",
      " ],\n",
      "\n",
      " \"metadata\": {\n",
      "\n",
      "  \"language_info\": {\n",
      "\n",
      "   \"name\": \"python\"\n",
      "\n",
      "  },\n",
      "\n",
      "  \"orig_nbformat\": 4\n",
      "\n",
      " },\n",
      "\n",
      " \"nbformat\": 4,\n",
      "\n",
      " \"nbformat_minor\": 2\n",
      "\n",
      "}\n",
      "\n"
     ]
    }
   ],
   "source": [
    "file= open(\"deneme.ipynb\" , \"r\" , encoding=\"utf=8\")\n",
    "for i in file:\n",
    "    print(i)\n",
    "file.close()"
   ]
  },
  {
   "cell_type": "code",
   "execution_count": 12,
   "metadata": {},
   "outputs": [],
   "source": [
    "class Araba():\n",
    "    #sinif özellikleri\n",
    "    model=\"renault megane\"\n",
    "    renk= \"Gümüş\"\n",
    "    beygirGücü=110\n",
    "    silindir=4"
   ]
  },
  {
   "cell_type": "code",
   "execution_count": 14,
   "metadata": {},
   "outputs": [
    {
     "name": "stdout",
     "output_type": "stream",
     "text": [
      "renault megane\n",
      "Gümüş\n",
      "110\n",
      "4\n"
     ]
    }
   ],
   "source": [
    "araba1 = Araba()\n",
    "print(araba1.model)\n",
    "print(araba1.renk)\n",
    "print(araba1.beygirGücü)\n",
    "print(araba1.silindir)"
   ]
  },
  {
   "cell_type": "code",
   "execution_count": 15,
   "metadata": {},
   "outputs": [
    {
     "name": "stdout",
     "output_type": "stream",
     "text": [
      "Kuş\n"
     ]
    }
   ],
   "source": [
    "class Animal():\n",
    "    name=\"Kuş\"\n",
    "    print(name)"
   ]
  },
  {
   "cell_type": "code",
   "execution_count": 16,
   "metadata": {},
   "outputs": [
    {
     "name": "stdout",
     "output_type": "stream",
     "text": [
      "init fonksiyonu çalişti.\n"
     ]
    }
   ],
   "source": [
    "class Araba():\n",
    "    def __init__(self):\n",
    "        print(\"init fonksiyonu çalişti.\")\n",
    "\n",
    "araba= Araba()"
   ]
  },
  {
   "cell_type": "code",
   "execution_count": 17,
   "metadata": {},
   "outputs": [],
   "source": [
    "class Araba():\n",
    "    def __init__(self,model,renk,beygir,silindir):\n",
    "        self.model=model\n",
    "        self.renk=renk \n",
    "        self.beygir=beygir\n",
    "        self.silindir=silindir\n",
    "\n",
    "\n",
    "        \n"
   ]
  },
  {
   "cell_type": "code",
   "execution_count": 18,
   "metadata": {},
   "outputs": [
    {
     "name": "stdout",
     "output_type": "stream",
     "text": [
      "peugeot 301\n"
     ]
    }
   ],
   "source": [
    "araba2= Araba(\"peugeot 301\", \"beyaz\",90,4)\n",
    "print(araba2.model)"
   ]
  },
  {
   "cell_type": "code",
   "execution_count": 20,
   "metadata": {},
   "outputs": [
    {
     "name": "stdout",
     "output_type": "stream",
     "text": [
      "Berkcan : Python öğreniyorum yorumunu yapip 98 beğeni aldı. 8 dislikes aldı.\n",
      "Ahmet : jumperlar çok güzel çalışıyor yorumunu yapip 90 beğeni aldı. 6 dislikes aldı.\n",
      "Emirhan : Bu seneki öğrenciler çok başarılı yorumunu yapip 100 beğeni aldı. 3 dislikes aldı.\n"
     ]
    }
   ],
   "source": [
    "class Comment():\n",
    "    def __init__(self,username,text,likes,dislikes):\n",
    "        self.username=username\n",
    "        self.text=text\n",
    "        self.likes=likes\n",
    "        self.dislikes=dislikes\n",
    "\n",
    "c1= Comment(\"Berkcan\",\"Python öğreniyorum\",98,8)\n",
    "c2= Comment(\"Ahmet\",\"jumperlar çok güzel çalışıyor\",90,6)\n",
    "c3= Comment(\"Emirhan\",\"Bu seneki öğrenciler çok başarılı\",100,3)\n",
    "\n",
    "comments=[c1,c2,c3]\n",
    "\n",
    "for c in comments:\n",
    "    print(f\"{c.username} : {c.text} yorumunu yapip {c.likes} beğeni aldı. {c.dislikes} dislikes aldı.\")"
   ]
  }
 ],
 "metadata": {
  "kernelspec": {
   "display_name": "Python 3",
   "language": "python",
   "name": "python3"
  },
  "language_info": {
   "codemirror_mode": {
    "name": "ipython",
    "version": 3
   },
   "file_extension": ".py",
   "mimetype": "text/x-python",
   "name": "python",
   "nbconvert_exporter": "python",
   "pygments_lexer": "ipython3",
   "version": "3.11.1"
  },
  "orig_nbformat": 4
 },
 "nbformat": 4,
 "nbformat_minor": 2
}
