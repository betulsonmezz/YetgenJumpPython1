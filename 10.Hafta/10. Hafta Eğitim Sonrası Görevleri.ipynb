{
 "cells": [
  {
   "attachments": {},
   "cell_type": "markdown",
   "metadata": {},
   "source": [
    "# Problem 1 "
   ]
  },
  {
   "cell_type": "code",
   "execution_count": 2,
   "metadata": {},
   "outputs": [
    {
     "name": "stdout",
     "output_type": "stream",
     "text": [
      "[12 32 45 67 89]\n"
     ]
    }
   ],
   "source": [
    "# 1 - numpy kütüphanesini import edin\n",
    "import numpy as np\n",
    "# 2 - 5 elemanlı bir numpy array oluşturun\n",
    "array=np.array([32,45,67,89,12])\n",
    "# 3 - Oluşturduğunuz arrayi küçükten büyüğe sıralayın.\n",
    "print(np.sort(array))"
   ]
  },
  {
   "attachments": {},
   "cell_type": "markdown",
   "metadata": {},
   "source": [
    "# Problem 2"
   ]
  },
  {
   "cell_type": "code",
   "execution_count": 17,
   "metadata": {},
   "outputs": [
    {
     "name": "stdout",
     "output_type": "stream",
     "text": [
      "[10 15 30 45 60]\n",
      "[ 5  6  7  8  9 10 11 12 13 14]\n",
      "[50 55 60 65 70 75 80 85 90 95]\n",
      "[0. 0. 0. 0. 0. 0. 0. 0. 0. 0.]\n",
      "[  0.  25.  50.  75. 100.]\n",
      "[18 26 23 26 19]\n",
      "[ 0.49891115  0.00091026  0.36262996 -0.63807633  0.87538138  0.44239568\n",
      " -0.78860836  0.02827141  0.30433811 -0.90243973]\n",
      "[[44 15 36 27 47]\n",
      " [29 43 21 29 44]\n",
      " [31 11 37 43 23]]\n",
      "[104  69  94  99 114]\n",
      "[169 166 145]\n",
      "47\n",
      "11\n",
      "32.0\n",
      "4\n",
      "[16 11 10]\n",
      "[14 11 13 19 15 10 11 16]\n",
      "[44 15 36 27 47]\n",
      "21\n",
      "[44 29 31]\n",
      "[[88 30 72 54 94]\n",
      " [58 86 42 58 88]\n",
      " [62 22 74 86 46]]\n",
      "[[False False False False  True]\n",
      " [False  True False False  True]\n",
      " [False False False False False]]\n"
     ]
    }
   ],
   "source": [
    "# 1- (10,15,30,45,60) değerlerine sahip numpy dizisi oluşturunuz.\n",
    "\n",
    "sayılar=np.array([10,15,30,45,60])\n",
    "print(sayılar)\n",
    "# 2- (5-15) arasındaki sayılarla numpy dizisi oluşturunuz.\n",
    "sayılar2 =np.arange(5,15)\n",
    "print(sayılar2)\n",
    "# 3- (50-100) arasında 5'er 5'er artarak numpy dizisi oluşturunuz.\n",
    "sayılar3 = np.arange(50,100,5)\n",
    "print(sayılar3)\n",
    "# 4- 10 elemanlı sıfırlardan oluşan bir dizi oluşturunuz.\n",
    "sayılar4=np.zeros(10)\n",
    "print(sayılar4)\n",
    "\n",
    "# 5- 10 elemanlı birlerden oluşan bir dizi oluşturunuz.\n",
    "sayılar5=np.ones(10)\n",
    "\n",
    "# 6- (0-100) arasında eşit aralıklı 5 sayı üretin.\n",
    "sayılar6=np.linspace(0,100,5)\n",
    "print(sayılar6)\n",
    "# 7- (10-30) arasında rastgele 5 tane tamsayı üretin.\n",
    "\n",
    "random_numbers=np.random.randint(10,31,size=5)\n",
    "print(random_numbers)\n",
    "# 8- [-1 ile 1] arasında 10 adet sayı üretin.\n",
    "random_numbers2=np.random.uniform(-1,1,size=10)\n",
    "print(random_numbers2)\n",
    "\n",
    "# 9- (3x5) boyutlarında (10-50) arasında rastgele bir matris oluşturunuz.\n",
    "random_numbers3 = np.random.randint(10,50,size=(3,5))\n",
    "print(random_numbers3)\n",
    "# 10- Üretilen matrisin satır ve sütun sayıları toplamlarını hesaplayınız ?\n",
    "print(random_numbers3.sum(axis=0))\n",
    "print(random_numbers3.sum(axis=1))\n",
    "# 11- Üretilen matrisin en büyük, en küçük ve ortalaması nedir ?\n",
    "\n",
    "print(random_numbers3.max())\n",
    "print(random_numbers3.min())\n",
    "print(random_numbers3.mean())\n",
    "# 12- Üretilen matrisin en büyük değerinin indeksi kaçtır ?\n",
    "\n",
    "print(random_numbers3.argmax())\n",
    "# 13- (10-20) arasındaki sayıları içeren dizinin ilk 3 elemanını seçiniz.\n",
    "\n",
    "random_numbers4= np.random.randint(10,20,size=8)\n",
    "print(random_numbers4[:3])\n",
    "# 14- Üretilen dizinin elemanlarını tersten yazdırın.\n",
    "print(random_numbers4[::-1])\n",
    "\n",
    "# 15- Üretilen matrisin ilk satırını seçiniz.\n",
    "print(random_numbers3[0])\n",
    "\n",
    "# 16- Üretilen matrisin 2.satır 3.sütundaki elemanı hangisidir ?\n",
    "print(random_numbers3[1,2])\n",
    "\n",
    "# 17- Üretilen matrisin tüm satırlardaki ilk elemanı seçiniz.\n",
    "print(random_numbers3[:,0])\n",
    "\n",
    "# 18- Üretilen matrisin her bir elemanının karesini alınız.\n",
    "\n",
    "print(random_numbers3*2)\n",
    "# 19- Üretilen matris elemanlarının hangisi pozitif çift sayıdır ? Aralığı (-50,+50) arasında yapınız.\n",
    "random_numbers5= np.random.randint(-50,50,size=(3,5))\n",
    "print((random_numbers5>0) & (random_numbers5 % 2 == 0))"
   ]
  }
 ],
 "metadata": {
  "kernelspec": {
   "display_name": "Python 3",
   "language": "python",
   "name": "python3"
  },
  "language_info": {
   "codemirror_mode": {
    "name": "ipython",
    "version": 3
   },
   "file_extension": ".py",
   "mimetype": "text/x-python",
   "name": "python",
   "nbconvert_exporter": "python",
   "pygments_lexer": "ipython3",
   "version": "3.11.1"
  },
  "orig_nbformat": 4,
  "vscode": {
   "interpreter": {
    "hash": "5026d2d6e7aaaaba093def813beadff083d8733e4a511af01735cbabd156995d"
   }
  }
 },
 "nbformat": 4,
 "nbformat_minor": 2
}
