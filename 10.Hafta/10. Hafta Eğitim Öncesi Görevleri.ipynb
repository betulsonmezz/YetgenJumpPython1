{
 "cells": [
  {
   "attachments": {},
   "cell_type": "markdown",
   "metadata": {},
   "source": [
    "# Problem 1"
   ]
  },
  {
   "cell_type": "code",
   "execution_count": 1,
   "metadata": {},
   "outputs": [
    {
     "name": "stdout",
     "output_type": "stream",
     "text": [
      "Collecting numpy\n",
      "  Downloading numpy-1.24.3-cp311-cp311-win_amd64.whl (14.8 MB)\n",
      "     ---------------------------------------- 14.8/14.8 MB 5.4 MB/s eta 0:00:00\n",
      "Installing collected packages: numpy\n",
      "Successfully installed numpy-1.24.3\n",
      "Note: you may need to restart the kernel to use updated packages.\n"
     ]
    },
    {
     "name": "stderr",
     "output_type": "stream",
     "text": [
      "\n",
      "[notice] A new release of pip available: 22.3.1 -> 23.1.1\n",
      "[notice] To update, run: python.exe -m pip install --upgrade pip\n"
     ]
    }
   ],
   "source": [
    "pip install numpy"
   ]
  },
  {
   "cell_type": "code",
   "execution_count": 9,
   "metadata": {},
   "outputs": [
    {
     "name": "stdout",
     "output_type": "stream",
     "text": [
      "[[ 9  2 10  8  0]\n",
      " [ 5  1  3  7  1]\n",
      " [ 8  1  9  5  6]\n",
      " [ 3  4  8  7  1]\n",
      " [ 1  2  2  0  8]]\n",
      "(5, 5)\n",
      "[[ 9]\n",
      " [ 2]\n",
      " [10]\n",
      " [ 8]\n",
      " [ 0]\n",
      " [ 5]\n",
      " [ 1]\n",
      " [ 3]\n",
      " [ 7]\n",
      " [ 1]\n",
      " [ 8]\n",
      " [ 1]\n",
      " [ 9]\n",
      " [ 5]\n",
      " [ 6]\n",
      " [ 3]\n",
      " [ 4]\n",
      " [ 8]\n",
      " [ 7]\n",
      " [ 1]\n",
      " [ 1]\n",
      " [ 2]\n",
      " [ 2]\n",
      " [ 0]\n",
      " [ 8]]\n",
      "2\n"
     ]
    }
   ],
   "source": [
    "# 1 - numpy kütüphanesini import edin\n",
    "import numpy as np\n",
    "\n",
    "# 2 - 0 ile 10 arasında 5 sayıdan oluşan matris üretin\n",
    "import numpy as np\n",
    "matris = np.random.randint(0, 11, size=(5, 5))\n",
    "\n",
    "print(matris)\n",
    "\n",
    "# 3 - matris'in boyutunu öğrenin\n",
    "print(matris.shape)\n",
    "\n",
    "# 4 - matris'i yeniden boyutlandırın\n",
    "yeniden = matris.reshape(25, 1)\n",
    "print(yeniden)\n",
    "\n",
    "# 5 - matris'in boyut sayısını öğrenin\n",
    "print(matris.ndim)"
   ]
  },
  {
   "attachments": {},
   "cell_type": "markdown",
   "metadata": {},
   "source": [
    "# Problem 2"
   ]
  },
  {
   "cell_type": "code",
   "execution_count": 3,
   "metadata": {},
   "outputs": [
    {
     "name": "stdout",
     "output_type": "stream",
     "text": [
      "[5 7 7 7 5 1 7 3]\n"
     ]
    },
    {
     "ename": "IndexError",
     "evalue": "too many indices for array: array is 1-dimensional, but 2 were indexed",
     "output_type": "error",
     "traceback": [
      "\u001b[1;31m---------------------------------------------------------------------------\u001b[0m",
      "\u001b[1;31mIndexError\u001b[0m                                Traceback (most recent call last)",
      "Cell \u001b[1;32mIn[3], line 8\u001b[0m\n\u001b[0;32m      5\u001b[0m \u001b[39mprint\u001b[39m(matris)\n\u001b[0;32m      7\u001b[0m \u001b[39m# 2 - Oluşturduğunuz matrisi parçalayın\u001b[39;00m\n\u001b[1;32m----> 8\u001b[0m bloklar \u001b[39m=\u001b[39m [matris[i:i\u001b[39m+\u001b[39;49m\u001b[39m2\u001b[39;49m, j:j\u001b[39m+\u001b[39;49m\u001b[39m2\u001b[39;49m] \u001b[39mfor\u001b[39;49;00m i \u001b[39min\u001b[39;49;00m \u001b[39mrange\u001b[39;49m(\u001b[39m0\u001b[39;49m, \u001b[39m5\u001b[39;49m, \u001b[39m2\u001b[39;49m) \u001b[39mfor\u001b[39;49;00m j \u001b[39min\u001b[39;49;00m \u001b[39mrange\u001b[39;49m(\u001b[39m0\u001b[39;49m, \u001b[39m5\u001b[39;49m, \u001b[39m2\u001b[39;49m)]\n\u001b[0;32m     10\u001b[0m \u001b[39mfor\u001b[39;00m i, blok \u001b[39min\u001b[39;00m \u001b[39menumerate\u001b[39m(bloklar):\n\u001b[0;32m     11\u001b[0m     \u001b[39mprint\u001b[39m(\u001b[39mf\u001b[39m\u001b[39m\"\u001b[39m\u001b[39mBlok \u001b[39m\u001b[39m{\u001b[39;00mi\u001b[39m}\u001b[39;00m\u001b[39m:\u001b[39m\u001b[39m\"\u001b[39m)\n",
      "Cell \u001b[1;32mIn[3], line 8\u001b[0m, in \u001b[0;36m<listcomp>\u001b[1;34m(.0)\u001b[0m\n\u001b[0;32m      5\u001b[0m \u001b[39mprint\u001b[39m(matris)\n\u001b[0;32m      7\u001b[0m \u001b[39m# 2 - Oluşturduğunuz matrisi parçalayın\u001b[39;00m\n\u001b[1;32m----> 8\u001b[0m bloklar \u001b[39m=\u001b[39m [matris[i:i\u001b[39m+\u001b[39;49m\u001b[39m2\u001b[39;49m, j:j\u001b[39m+\u001b[39;49m\u001b[39m2\u001b[39;49m] \u001b[39mfor\u001b[39;00m i \u001b[39min\u001b[39;00m \u001b[39mrange\u001b[39m(\u001b[39m0\u001b[39m, \u001b[39m5\u001b[39m, \u001b[39m2\u001b[39m) \u001b[39mfor\u001b[39;00m j \u001b[39min\u001b[39;00m \u001b[39mrange\u001b[39m(\u001b[39m0\u001b[39m, \u001b[39m5\u001b[39m, \u001b[39m2\u001b[39m)]\n\u001b[0;32m     10\u001b[0m \u001b[39mfor\u001b[39;00m i, blok \u001b[39min\u001b[39;00m \u001b[39menumerate\u001b[39m(bloklar):\n\u001b[0;32m     11\u001b[0m     \u001b[39mprint\u001b[39m(\u001b[39mf\u001b[39m\u001b[39m\"\u001b[39m\u001b[39mBlok \u001b[39m\u001b[39m{\u001b[39;00mi\u001b[39m}\u001b[39;00m\u001b[39m:\u001b[39m\u001b[39m\"\u001b[39m)\n",
      "\u001b[1;31mIndexError\u001b[0m: too many indices for array: array is 1-dimensional, but 2 were indexed"
     ]
    }
   ],
   "source": [
    "# 1 - 0 ile 10 arasında bulunan tek sayılardan oluşan matris üretin\n",
    "import numpy as np\n",
    "matris = np.random.randint(1, 11, size=(3, 3))\n",
    "matris = matris[matris % 2 == 1]\n",
    "print(matris)\n",
    "\n",
    "# 2 - Oluşturduğunuz matrisi parçalayın\n",
    "bloklar = [matris[i:i+2, j:j+2] for i in range(0, 5, 2) for j in range(0, 5, 2)]\n",
    "\n",
    "for i, blok in enumerate(bloklar):\n",
    "    print(f\"Blok {i}:\")\n",
    "    print(blok)\n",
    "\n",
    "# 3 - Parçalanmış matrisleri birleştirin\n",
    "birlesik_matris = np.concatenate([np.concatenate(bloklar[:2], axis=1), \n",
    "                                   np.concatenate(bloklar[2:], axis=1)], axis=0)\n",
    "\n",
    "# birleştirilmiş matrisi yazdırma\n",
    "print(\"Birleştirilmiş Matris:\")\n",
    "print(birlesik_matris)\n"
   ]
  },
  {
   "attachments": {},
   "cell_type": "markdown",
   "metadata": {},
   "source": [
    "# Problem 3"
   ]
  },
  {
   "cell_type": "code",
   "execution_count": 8,
   "metadata": {},
   "outputs": [
    {
     "name": "stdout",
     "output_type": "stream",
     "text": [
      "[[35 53]\n",
      " [79 21]\n",
      " [67 43]\n",
      " [23 99]\n",
      " [ 5 95]]\n",
      "(5, 2)\n",
      "10\n",
      "int32\n"
     ]
    }
   ],
   "source": [
    "# 1 - 5 ile 100 arasında ikişer ikişer atlayarak rastgele 10 sayıdan oluşan matris üretin\n",
    "import numpy as np\n",
    "\n",
    "\n",
    "sayilar = np.arange(5, 101, 2)\n",
    "\n",
    "\n",
    "rastgele_sayilar = np.random.choice(sayilar, size=10, replace=False)\n",
    "\n",
    "\n",
    "matris = rastgele_sayilar.reshape(5, 2)\n",
    "\n",
    "\n",
    "print(matris)\n",
    "\n",
    "# 2 - matris'in özelliklerini inceleyin\n",
    "print(matris.shape)\n",
    "print(matris.size)\n",
    "print(matris.dtype)\n"
   ]
  }
 ],
 "metadata": {
  "kernelspec": {
   "display_name": "Python 3",
   "language": "python",
   "name": "python3"
  },
  "language_info": {
   "codemirror_mode": {
    "name": "ipython",
    "version": 3
   },
   "file_extension": ".py",
   "mimetype": "text/x-python",
   "name": "python",
   "nbconvert_exporter": "python",
   "pygments_lexer": "ipython3",
   "version": "3.11.1"
  },
  "orig_nbformat": 4,
  "vscode": {
   "interpreter": {
    "hash": "5026d2d6e7aaaaba093def813beadff083d8733e4a511af01735cbabd156995d"
   }
  }
 },
 "nbformat": 4,
 "nbformat_minor": 2
}
