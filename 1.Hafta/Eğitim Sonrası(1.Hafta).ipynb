{
 "cells": [
  {
   "cell_type": "markdown",
   "metadata": {},
   "source": [
    "# YETGEN\n",
    "## PYTHON ÇALIŞMALARI\n",
    "### 4.HAFTA"
   ]
  },
  {
   "cell_type": "code",
   "execution_count": 2,
   "metadata": {},
   "outputs": [
    {
     "name": "stdout",
     "output_type": "stream",
     "text": [
      "['Ahmet', 'Eslem', 'Berkcan', 'Çağla']\n",
      "Ahmet\n",
      "Çağla\n"
     ]
    }
   ],
   "source": [
    "liderler = [\"Ahmet\" , \"Eslem\" , \"Berkcan\" , \"Çağla\"]\n",
    "print(liderler)\n",
    "print(liderler[0])\n",
    "print(liderler[-1])"
   ]
  },
  {
   "cell_type": "code",
   "execution_count": 3,
   "metadata": {},
   "outputs": [
    {
     "name": "stdout",
     "output_type": "stream",
     "text": [
      "['Ahmet', 'Eslem', 'Berkcan', 'Çağla', 'Emirhan']\n",
      "['Ahmet', 'Eslem', 'Çağla', 'Emirhan']\n"
     ]
    }
   ],
   "source": [
    "liderler.append(\"Emirhan\")\n",
    "print(liderler)\n",
    "liderler.remove(\"Berkcan\")\n",
    "print(liderler)"
   ]
  },
  {
   "cell_type": "code",
   "execution_count": 10,
   "metadata": {},
   "outputs": [
    {
     "name": "stdout",
     "output_type": "stream",
     "text": [
      "4\n",
      "['Ahmet', 'Eslem', 'Berkcan', 'Emirhan']\n"
     ]
    }
   ],
   "source": [
    "print(len(liderler)) \n",
    "liderler[2] = \"Berkcan\"\n",
    "print(liderler)"
   ]
  },
  {
   "cell_type": "code",
   "execution_count": 11,
   "metadata": {},
   "outputs": [
    {
     "name": "stdout",
     "output_type": "stream",
     "text": [
      "[]\n"
     ]
    }
   ],
   "source": [
    "liderler.clear()\n",
    "print(liderler)"
   ]
  },
  {
   "cell_type": "code",
   "execution_count": 17,
   "metadata": {},
   "outputs": [
    {
     "name": "stdout",
     "output_type": "stream",
     "text": [
      "['Ankara', 'İstanbul', 'İzmir']\n",
      "Ankara'nin indeksi :  0\n",
      "Ankara'nin indeksi : 1\n"
     ]
    }
   ],
   "source": [
    "sehirler =list((\"Ankara\" , \"İstanbul\" , \"İzmir\"))\n",
    "print(sehirler)\n",
    "print(\"Ankara'nin indeksi : \" , sehirler.index(\"Ankara\"))\n",
    "print(\"Ankara'nin indeksi : \" + str(sehirler.index(\"İstanbul\")))\n"
   ]
  },
  {
   "cell_type": "code",
   "execution_count": 35,
   "metadata": {},
   "outputs": [
    {
     "name": "stdout",
     "output_type": "stream",
     "text": [
      "['Ankara', 'Adana', 'Bolu', 'Muğla']\n",
      "['Ankara', 'Adana', 'Bolu']\n",
      "['Bolu', 'Adana', 'Ankara']\n",
      "['Adana', 'Ankara', 'Bolu']\n"
     ]
    }
   ],
   "source": [
    "sehirler=list((\"Ankara\" , \"Bolu\" , \"Muğla\"))\n",
    "sehirler.insert(1,\"Adana\")\n",
    "print(sehirler)\n",
    "sehirler.pop()\n",
    "print(sehirler)\n",
    "sehirler.reverse()\n",
    "print(sehirler)\n",
    "sehirler.sort()\n",
    "print(sehirler)"
   ]
  },
  {
   "cell_type": "code",
   "execution_count": 40,
   "metadata": {},
   "outputs": [
    {
     "name": "stdout",
     "output_type": "stream",
     "text": [
      "['Ahmet', 'Berkcan', 'Enes', 'Çağla']\n",
      "1\n",
      "2\n",
      "berkcan\n",
      "4\n",
      "6\n",
      "z\n"
     ]
    }
   ],
   "source": [
    "liste1= [\"Ahmet\", \"Berkcan\"]\n",
    "liste2= [\"Enes\", \"Çağla\"]\n",
    "print(liste1+liste2)\n",
    "nestedlist=[1,2,\"berkcan\",4,[6,\"z\"]]\n",
    "print(nestedlist[0])\n",
    "print(nestedlist[1])\n",
    "print(nestedlist[2])\n",
    "print(nestedlist[3])\n",
    "print(nestedlist[4][0])\n",
    "print(nestedlist[4][1])"
   ]
  },
  {
   "cell_type": "code",
   "execution_count": 41,
   "metadata": {},
   "outputs": [
    {
     "name": "stdout",
     "output_type": "stream",
     "text": [
      "<class 'tuple'>\n",
      "5\n",
      "(4, 6, 'Ankara')\n"
     ]
    }
   ],
   "source": [
    "tuplelist= (2,4,6,\"Ankara\",[2,4,6,])\n",
    "print(type(tuplelist))\n",
    "print(len(tuplelist))\n",
    "print(tuplelist[1:4])"
   ]
  },
  {
   "cell_type": "code",
   "execution_count": 44,
   "metadata": {},
   "outputs": [
    {
     "name": "stdout",
     "output_type": "stream",
     "text": [
      "{'Enes', 'Berkcan'}\n",
      "<class 'set'>\n",
      "Enes\n",
      "True\n",
      "Berkcan\n",
      "True\n"
     ]
    }
   ],
   "source": [
    "liderler= {\"Berkcan\", \"Enes\"}\n",
    "print(liderler)\n",
    "print(type(liderler))\n",
    "for lider in liderler:\n",
    "    print(lider)\n",
    "    print(\"Berkcan\" in liderler)"
   ]
  },
  {
   "cell_type": "code",
   "execution_count": 53,
   "metadata": {},
   "outputs": [
    {
     "name": "stdout",
     "output_type": "stream",
     "text": [
      "{'Çağla', 'Eslem', 'Emirhan', 'Berkcan'}\n",
      "{'Çağla', 'Eslem', 'Emirhan', 'Berkcan'}\n",
      "{'Çağla', 'Emirhan', 'Berkcan'}\n",
      "{'Emirhan', 'Berkcan'}\n"
     ]
    }
   ],
   "source": [
    "liderler.add(\"Eslem\")\n",
    "print(liderler)\n",
    "liderler.update([\"Emirhan\", \"Çağla\"])\n",
    "print(liderler)\n",
    "liderler.remove(\"Eslem\")\n",
    "print(liderler)\n",
    "liderler.pop()\n",
    "print(liderler)"
   ]
  },
  {
   "cell_type": "code",
   "execution_count": 61,
   "metadata": {},
   "outputs": [
    {
     "data": {
      "text/plain": [
       "set()"
      ]
     },
     "execution_count": 61,
     "metadata": {},
     "output_type": "execute_result"
    }
   ],
   "source": [
    "set1={1,2,3}\n",
    "set2={2,3,4}\n",
    "set1.union(set2)\n",
    "set1.intersection(set2)\n",
    "set1.difference(set2)\n",
    "set2.difference(set1)\n",
    "set1.clear()\n",
    "set1"
   ]
  },
  {
   "cell_type": "code",
   "execution_count": 63,
   "metadata": {},
   "outputs": [
    {
     "name": "stdout",
     "output_type": "stream",
     "text": [
      "{'book': 'kitap', 'table': 'masa'}\n",
      "<class 'dict'>\n",
      "masa\n"
     ]
    }
   ],
   "source": [
    "sozluk= {\"book\" : \"kitap\" , \"table\" : \"masa\"}\n",
    "print(sozluk)\n",
    "print(type(sozluk))\n",
    "print(sozluk[\"table\"])"
   ]
  },
  {
   "cell_type": "code",
   "execution_count": 66,
   "metadata": {},
   "outputs": [
    {
     "name": "stdout",
     "output_type": "stream",
     "text": [
      "{'book': 'kitaplar', 'table': 'masa', 'pencil': 'kalem'}\n",
      "{'book': 'kitaplar', 'table': 'masa', 'pencil': 'kalem'}\n",
      "{'table': 'masa', 'pencil': 'kalem'}\n"
     ]
    }
   ],
   "source": [
    "sozluk[\"pencil\"]= \"kalem\"\n",
    "print(sozluk)\n",
    "sozluk[\"book\"]= \"kitaplar\"\n",
    "print(sozluk)\n",
    "del(sozluk[\"book\"])\n",
    "print(sozluk)"
   ]
  },
  {
   "cell_type": "code",
   "execution_count": 68,
   "metadata": {},
   "outputs": [
    {
     "name": "stdout",
     "output_type": "stream",
     "text": [
      "{1: {'TL': 'Türkiye'}}\n"
     ]
    }
   ],
   "source": [
    "sozlukValue= {1 : {\"TL\" : \"Türkiye\"}}\n",
    "print(sozlukValue)"
   ]
  },
  {
   "cell_type": "code",
   "execution_count": 72,
   "metadata": {},
   "outputs": [
    {
     "data": {
      "text/plain": [
       "dict_keys(['table', 'pencil'])"
      ]
     },
     "execution_count": 72,
     "metadata": {},
     "output_type": "execute_result"
    }
   ],
   "source": [
    "sozluk.keys()\n",
    "\n"
   ]
  },
  {
   "cell_type": "code",
   "execution_count": 73,
   "metadata": {},
   "outputs": [
    {
     "data": {
      "text/plain": [
       "dict_values(['masa', 'kalem'])"
      ]
     },
     "execution_count": 73,
     "metadata": {},
     "output_type": "execute_result"
    }
   ],
   "source": [
    "sozluk.values()"
   ]
  },
  {
   "cell_type": "code",
   "execution_count": 74,
   "metadata": {},
   "outputs": [
    {
     "data": {
      "text/plain": [
       "dict_items([('table', 'masa'), ('pencil', 'kalem')])"
      ]
     },
     "execution_count": 74,
     "metadata": {},
     "output_type": "execute_result"
    }
   ],
   "source": [
    "sozluk.items()"
   ]
  },
  {
   "cell_type": "code",
   "execution_count": 79,
   "metadata": {},
   "outputs": [
    {
     "name": "stdout",
     "output_type": "stream",
     "text": [
      "tGe\n",
      "tGen\n",
      "Ye\n",
      "neGteY\n"
     ]
    }
   ],
   "source": [
    "x= \"YetGen\"\n",
    "print(x[2: 5])\n",
    "print(x[2: ])\n",
    "print(x[ :2])\n",
    "print(x[::-1])"
   ]
  },
  {
   "cell_type": "code",
   "execution_count": 84,
   "metadata": {},
   "outputs": [
    {
     "name": "stdout",
     "output_type": "stream",
     "text": [
      "6\n"
     ]
    },
    {
     "data": {
      "text/plain": [
       "'yetgen'"
      ]
     },
     "execution_count": 84,
     "metadata": {},
     "output_type": "execute_result"
    }
   ],
   "source": [
    "print(len(x))\n",
    "x.upper()\n",
    "x.lower()"
   ]
  },
  {
   "cell_type": "code",
   "execution_count": 85,
   "metadata": {},
   "outputs": [
    {
     "data": {
      "text/plain": [
       "'Yetgen'"
      ]
     },
     "execution_count": 85,
     "metadata": {},
     "output_type": "execute_result"
    }
   ],
   "source": [
    "x.capitalize()"
   ]
  },
  {
   "cell_type": "code",
   "execution_count": 86,
   "metadata": {},
   "outputs": [
    {
     "data": {
      "text/plain": [
       "'yETgEN'"
      ]
     },
     "execution_count": 86,
     "metadata": {},
     "output_type": "execute_result"
    }
   ],
   "source": [
    "x.swapcase()"
   ]
  },
  {
   "cell_type": "code",
   "execution_count": 89,
   "metadata": {},
   "outputs": [
    {
     "data": {
      "text/plain": [
       "'YatGan'"
      ]
     },
     "execution_count": 89,
     "metadata": {},
     "output_type": "execute_result"
    }
   ],
   "source": [
    "x.replace(\"e\" , \"a\")"
   ]
  },
  {
   "cell_type": "code",
   "execution_count": 91,
   "metadata": {},
   "outputs": [
    {
     "name": "stdout",
     "output_type": "stream",
     "text": [
      "['berkcan', 'gumusisik', '23', 'ankara']\n"
     ]
    }
   ],
   "source": [
    "bilgi=\"berkcan gumusisik 23 ankara\"\n",
    "print(bilgi.split(\" \"))"
   ]
  },
  {
   "cell_type": "code",
   "execution_count": 92,
   "metadata": {},
   "outputs": [
    {
     "name": "stdout",
     "output_type": "stream",
     "text": [
      "yetgen\n"
     ]
    }
   ],
   "source": [
    "bosluk= \"         yetgen              \"\n",
    "print(bosluk.strip())"
   ]
  },
  {
   "cell_type": "code",
   "execution_count": 93,
   "metadata": {},
   "outputs": [
    {
     "name": "stdout",
     "output_type": "stream",
     "text": [
      "True\n"
     ]
    }
   ],
   "source": [
    "yetgen=\"Yetgen\"\n",
    "print(yetgen.startswith (\"Y\"))"
   ]
  },
  {
   "cell_type": "code",
   "execution_count": 94,
   "metadata": {},
   "outputs": [
    {
     "name": "stdout",
     "output_type": "stream",
     "text": [
      "True\n"
     ]
    }
   ],
   "source": [
    "print(yetgen.endswith(\"en\"))"
   ]
  },
  {
   "cell_type": "code",
   "execution_count": 95,
   "metadata": {},
   "outputs": [
    {
     "name": "stdout",
     "output_type": "stream",
     "text": [
      "1\n"
     ]
    }
   ],
   "source": [
    "print(yetgen.find(\"e\"))"
   ]
  },
  {
   "cell_type": "code",
   "execution_count": 96,
   "metadata": {},
   "outputs": [
    {
     "name": "stdout",
     "output_type": "stream",
     "text": [
      "2\n"
     ]
    }
   ],
   "source": [
    "print(yetgen.index(\"t\"))"
   ]
  },
  {
   "cell_type": "code",
   "execution_count": 97,
   "metadata": {},
   "outputs": [
    {
     "name": "stdout",
     "output_type": "stream",
     "text": [
      "-1\n"
     ]
    }
   ],
   "source": [
    "print(yetgen.find(\"m\"))"
   ]
  },
  {
   "cell_type": "code",
   "execution_count": 98,
   "metadata": {},
   "outputs": [
    {
     "ename": "ValueError",
     "evalue": "substring not found",
     "output_type": "error",
     "traceback": [
      "\u001b[1;31m---------------------------------------------------------------------------\u001b[0m",
      "\u001b[1;31mValueError\u001b[0m                                Traceback (most recent call last)",
      "Cell \u001b[1;32mIn[98], line 1\u001b[0m\n\u001b[1;32m----> 1\u001b[0m \u001b[39mprint\u001b[39m(yetgen\u001b[39m.\u001b[39;49mindex(\u001b[39m\"\u001b[39;49m\u001b[39mm\u001b[39;49m\u001b[39m\"\u001b[39;49m))\n",
      "\u001b[1;31mValueError\u001b[0m: substring not found"
     ]
    }
   ],
   "source": [
    "print(yetgen.index(\"m\"))"
   ]
  },
  {
   "cell_type": "code",
   "execution_count": 99,
   "metadata": {},
   "outputs": [
    {
     "name": "stdout",
     "output_type": "stream",
     "text": [
      "True\n"
     ]
    }
   ],
   "source": [
    "print(\"abc\".isalpha())"
   ]
  },
  {
   "cell_type": "code",
   "execution_count": 100,
   "metadata": {},
   "outputs": [
    {
     "name": "stdout",
     "output_type": "stream",
     "text": [
      "True\n"
     ]
    }
   ],
   "source": [
    "print(\"123\".isdigit())"
   ]
  }
 ],
 "metadata": {
  "kernelspec": {
   "display_name": "Python 3",
   "language": "python",
   "name": "python3"
  },
  "language_info": {
   "codemirror_mode": {
    "name": "ipython",
    "version": 3
   },
   "file_extension": ".py",
   "mimetype": "text/x-python",
   "name": "python",
   "nbconvert_exporter": "python",
   "pygments_lexer": "ipython3",
   "version": "3.11.1"
  },
  "orig_nbformat": 4,
  "vscode": {
   "interpreter": {
    "hash": "1e42b0ba457a757cdffbedd204ce6c249db97bd6347d6c3bd92932548a064c93"
   }
  }
 },
 "nbformat": 4,
 "nbformat_minor": 2
}
