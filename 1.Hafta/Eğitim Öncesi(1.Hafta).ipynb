{
 "cells": [
  {
   "cell_type": "code",
   "execution_count": null,
   "metadata": {},
   "outputs": [],
   "source": []
  },
  {
   "attachments": {},
   "cell_type": "markdown",
   "metadata": {},
   "source": [
    "# YETGEN\n",
    "## PYHTON ÇALIŞMALARI\n",
    "### 1.HAFTA\n",
    "#### MARKDOWN DENEMESİ\n"
   ]
  },
  {
   "attachments": {},
   "cell_type": "markdown",
   "metadata": {},
   "source": [
    "**BETUL SONMEZ**\n",
    "*USKUDAR UNIVERSITESI OGRENCISI*"
   ]
  },
  {
   "attachments": {},
   "cell_type": "markdown",
   "metadata": {},
   "source": [
    "[UNI WEB](https://uskudar.edu.tr/)."
   ]
  },
  {
   "attachments": {},
   "cell_type": "markdown",
   "metadata": {},
   "source": [
    "[UNI](https://uskudar.edu.tr/)"
   ]
  },
  {
   "attachments": {},
   "cell_type": "markdown",
   "metadata": {},
   "source": [
    "![USKUDAR](https://anatoliansuntravel.com/assets/images/points/15-uskudar-min.jpg)"
   ]
  },
  {
   "attachments": {},
   "cell_type": "markdown",
   "metadata": {},
   "source": [
    "<IMG SRC=\"https://anatoliansuntravel.com/assets/images/points/15-uskudar-min.jpg\">"
   ]
  },
  {
   "attachments": {},
   "cell_type": "markdown",
   "metadata": {},
   "source": [
    "- 1  \n",
    " \n",
    "    - 1.1"
   ]
  }
 ],
 "metadata": {
  "kernelspec": {
   "display_name": "Python 3",
   "language": "python",
   "name": "python3"
  },
  "language_info": {
   "name": "python",
   "version": "3.11.1"
  },
  "orig_nbformat": 4,
  "vscode": {
   "interpreter": {
    "hash": "1e42b0ba457a757cdffbedd204ce6c249db97bd6347d6c3bd92932548a064c93"
   }
  }
 },
 "nbformat": 4,
 "nbformat_minor": 2
}
