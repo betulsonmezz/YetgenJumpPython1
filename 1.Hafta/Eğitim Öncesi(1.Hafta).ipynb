{
 "cells": [
  {
   "cell_type": "code",
   "execution_count": null,
   "metadata": {},
   "outputs": [],
   "source": []
  },
  {
   "attachments": {},
   "cell_type": "markdown",
   "metadata": {},
   "source": [
    "# YETGEN\n",
    "## PYHTON ÇALIŞMALARI\n",
    "### 1.HAFTA\n",
    "#### MARKDOWN DENEMESİ\n"
   ]
  },
  {
   "attachments": {},
   "cell_type": "markdown",
   "metadata": {},
   "source": [
    "**BETUL SONMEZ**\n",
    "*USKUDAR UNIVERSITESI OGRENCISI*"
   ]
  },
  {
   "attachments": {},
   "cell_type": "markdown",
   "metadata": {},
   "source": [
    "[UNI WEB](https://uskudar.edu.tr/)."
   ]
  },
  {
   "attachments": {},
   "cell_type": "markdown",
   "metadata": {},
   "source": [
    "[UNI](https://uskudar.edu.tr/)"
   ]
  },
  {
   "attachments": {},
   "cell_type": "markdown",
   "metadata": {},
   "source": [
    "![USKUDAR](https://anatoliansuntravel.com/assets/images/points/15-uskudar-min.jpg)"
   ]
  },
  {
   "attachments": {},
   "cell_type": "markdown",
   "metadata": {},
   "source": [
    "<IMG SRC=\"https://anatoliansuntravel.com/assets/images/points/15-uskudar-min.jpg\">"
   ]
  },
  {
   "attachments": {},
   "cell_type": "markdown",
   "metadata": {},
   "source": [
    "- 1  \n",
    " \n",
    "    - 1.1"
   ]
  },
  {
   "cell_type": "code",
   "execution_count": 1,
   "metadata": {},
   "outputs": [
    {
     "name": "stdout",
     "output_type": "stream",
     "text": [
      "hello,hello\n"
     ]
    }
   ],
   "source": [
    "print(\"hello\" , \"hello\" , sep=\",\")"
   ]
  },
  {
   "cell_type": "code",
   "execution_count": 2,
   "metadata": {},
   "outputs": [
    {
     "name": "stdout",
     "output_type": "stream",
     "text": [
      "hosgeldiniz."
     ]
    }
   ],
   "source": [
    "print(\"hosgeldiniz\" , end=\".\")"
   ]
  },
  {
   "cell_type": "code",
   "execution_count": 3,
   "metadata": {},
   "outputs": [
    {
     "name": "stdout",
     "output_type": "stream",
     "text": [
      "3.14\n"
     ]
    }
   ],
   "source": [
    "print(3.14)"
   ]
  },
  {
   "cell_type": "code",
   "execution_count": 4,
   "metadata": {},
   "outputs": [
    {
     "name": "stdout",
     "output_type": "stream",
     "text": [
      "YetGEN\n"
     ]
    }
   ],
   "source": [
    "yetgen=\"YetGEN\"\n",
    "print(yetgen)"
   ]
  },
  {
   "cell_type": "code",
   "execution_count": 5,
   "metadata": {},
   "outputs": [
    {
     "name": "stdout",
     "output_type": "stream",
     "text": [
      "Berkcan gümüşışık\n",
      "ahmet ekici\n"
     ]
    }
   ],
   "source": [
    "isimSoyisim = \"Berkcan gümüşışık\"\n",
    "isim_soyisim = \"ahmet ekici\" \n",
    "print(isimSoyisim) \n",
    "print(isim_soyisim)"
   ]
  },
  {
   "cell_type": "code",
   "execution_count": 6,
   "metadata": {},
   "outputs": [
    {
     "name": "stdout",
     "output_type": "stream",
     "text": [
      "<class 'str'>\n"
     ]
    }
   ],
   "source": [
    "print(type(\"Betül\"))"
   ]
  },
  {
   "cell_type": "code",
   "execution_count": 10,
   "metadata": {},
   "outputs": [
    {
     "name": "stdout",
     "output_type": "stream",
     "text": [
      "12\n",
      "p\n",
      "n\n"
     ]
    }
   ],
   "source": [
    "a = 4\n",
    "b = 3\n",
    "print(a * b)\n",
    "degisken = \"pyhton\"\n",
    "print(degisken[0])\n",
    "print(degisken[-1])"
   ]
  },
  {
   "cell_type": "code",
   "execution_count": 19,
   "metadata": {},
   "outputs": [
    {
     "name": "stdout",
     "output_type": "stream",
     "text": [
      "berkcan gumusisik\n",
      "berkcan   gumusisik   23\n",
      "berkcan gumusisik 23\n"
     ]
    }
   ],
   "source": [
    "isim = \"berkcan\" \n",
    "soyisim = \"gumusisik\"\n",
    "yas = 23\n",
    "print(isim + \" \" + soyisim)\n",
    "print(isim , \" \", soyisim , \" \" , yas)\n",
    "print(f\"{isim} {soyisim} {yas}\")"
   ]
  },
  {
   "cell_type": "code",
   "execution_count": 26,
   "metadata": {},
   "outputs": [
    {
     "name": "stdout",
     "output_type": "stream",
     "text": [
      "merhaba Betül\n",
      "merhaba Betül\n",
      "merhaba Betül\n"
     ]
    }
   ],
   "source": [
    "isim = input(\"isim giriniz:\")\n",
    "print(f\"merhaba {isim}\")\n",
    "print(\"merhaba\" , isim)\n",
    "print(\"merhaba\" + \" \" + isim)"
   ]
  },
  {
   "cell_type": "code",
   "execution_count": 27,
   "metadata": {},
   "outputs": [
    {
     "name": "stdout",
     "output_type": "stream",
     "text": [
      "6\n"
     ]
    }
   ],
   "source": [
    "sayi1 = int(input(\"1.sayi : \"))\n",
    "sayi2 = int(input(\"1.sayı : \"))\n",
    "print(sayi1 + sayi2)"
   ]
  },
  {
   "attachments": {},
   "cell_type": "markdown",
   "metadata": {},
   "source": [
    "Başına int koymazsak 3+3 işlemni 33 olarak çıkartır."
   ]
  },
  {
   "cell_type": "code",
   "execution_count": 28,
   "metadata": {},
   "outputs": [
    {
     "name": "stdout",
     "output_type": "stream",
     "text": [
      "3 + 3 = 6\n"
     ]
    }
   ],
   "source": [
    "print(f\"{sayi1} + {sayi2} = {sayi1 + sayi2}\")"
   ]
  }
 ],
 "metadata": {
  "kernelspec": {
   "display_name": "Python 3",
   "language": "python",
   "name": "python3"
  },
  "language_info": {
   "codemirror_mode": {
    "name": "ipython",
    "version": 3
   },
   "file_extension": ".py",
   "mimetype": "text/x-python",
   "name": "python",
   "nbconvert_exporter": "python",
   "pygments_lexer": "ipython3",
   "version": "3.11.1"
  },
  "orig_nbformat": 4,
  "vscode": {
   "interpreter": {
    "hash": "1e42b0ba457a757cdffbedd204ce6c249db97bd6347d6c3bd92932548a064c93"
   }
  }
 },
 "nbformat": 4,
 "nbformat_minor": 2
}
