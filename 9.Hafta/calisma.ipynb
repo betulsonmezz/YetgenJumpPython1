{
 "cells": [
  {
   "cell_type": "code",
   "execution_count": 2,
   "metadata": {},
   "outputs": [
    {
     "name": "stdout",
     "output_type": "stream",
     "text": [
      "\n",
      "        Çalışan Bilgisi :\n",
      "            isim: Berkcan\n",
      "            soyisim:Gümüşışık\n",
      "            numara: 12345\n",
      "            maaş:10000\n",
      "            bildiği diller:['python', 'flutter', 'JS']\n",
      "        \n"
     ]
    }
   ],
   "source": [
    "class yazilimci():\n",
    "    def __init__(self,isim,soyisim,numara,maaş,diller):\n",
    "        self.isim= isim\n",
    "        self.soyisim= soyisim\n",
    "        self.numara= numara\n",
    "        self.maaş= maaş\n",
    "        self.diller= diller\n",
    "    def bilgileriGöster(self):\n",
    "        print(f\"\"\"\n",
    "        Çalışan Bilgisi :\n",
    "            isim: {self.isim}\n",
    "            soyisim:{self.soyisim}\n",
    "            numara: {self.numara}\n",
    "            maaş:{self.maaş}\n",
    "            bildiği diller:{self.diller}\n",
    "        \"\"\")\n",
    "    \n",
    "    def dil_ekle(self, yeni_dil):\n",
    "        print(\"dil eklendi\")\n",
    "        self.diller.append(yeni_dil)\n",
    "\n",
    "    def maas_yükselt (self, zam):\n",
    "        print(\"zam yapılıyor\")\n",
    "        self.maaş+=250\n",
    "\n",
    "\n",
    "Yazilimci= yazilimci(\"Berkcan\" , \"Gümüşışık\" , 12345, 10000 , [\"python\", \"flutter\" , \"JS\"])\n",
    "Yazilimci.bilgileriGöster()\n"
   ]
  },
  {
   "cell_type": "code",
   "execution_count": null,
   "metadata": {},
   "outputs": [],
   "source": []
  }
 ],
 "metadata": {
  "kernelspec": {
   "display_name": "Python 3",
   "language": "python",
   "name": "python3"
  },
  "language_info": {
   "codemirror_mode": {
    "name": "ipython",
    "version": 3
   },
   "file_extension": ".py",
   "mimetype": "text/x-python",
   "name": "python",
   "nbconvert_exporter": "python",
   "pygments_lexer": "ipython3",
   "version": "3.11.1"
  },
  "orig_nbformat": 4
 },
 "nbformat": 4,
 "nbformat_minor": 2
}
